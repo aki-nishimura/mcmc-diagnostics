{
 "cells": [
  {
   "cell_type": "code",
   "execution_count": null,
   "metadata": {},
   "outputs": [],
   "source": [
    "import numpy as np\n",
    "import matplotlib.pyplot as plt\n",
    "%matplotlib inline\n",
    "\n",
    "from mc_coda import estimate_ess\n",
    "from mc_coda.effective_sample_size import _r_coda\n",
    "from demo_helper import random_walk_metropolis_sampler, ProductGaussian"
   ]
  },
  {
   "cell_type": "markdown",
   "metadata": {},
   "source": [
    "## Sample from a multi-variate Gaussian with random-walk Metropolis."
   ]
  },
  {
   "cell_type": "code",
   "execution_count": null,
   "metadata": {},
   "outputs": [],
   "source": [
    "dim = 100\n",
    "target_sd = np.arange(1, dim + 1)\n",
    "gaussian_target = ProductGaussian(marginal_sd=target_sd)\n",
    "f = lambda x: gaussian_target.compute_logp(x)\n",
    "proposal_sd = 2.38 / np.sqrt(dim) * target_sd\n",
    "    # Optimal proposal sd: see Gelman, Roberts, and Gilks 1996.\n",
    "    \n",
    "n_samples = 10 ** 4\n",
    "x0 = target_sd * np.random.randn(dim)\n",
    "samples, accept_rate, logp_samples, _ = random_walk_metropolis_sampler(\n",
    "    f, x0, proposal_sd, n_samples, seed=0, thin=5\n",
    ")"
   ]
  },
  {
   "cell_type": "code",
   "execution_count": null,
   "metadata": {},
   "outputs": [],
   "source": [
    "plt.figure(figsize=(13, 5))\n",
    "plt.rcParams['font.size'] = 20\n",
    "\n",
    "n_param_to_plot = 10\n",
    "n_iter_to_plot = 2500\n",
    "plt.plot(samples[:n_param_to_plot, :n_iter_to_plot].T)\n",
    "plt.xlabel('MCMC iterations')\n",
    "plt.title('Trace plot of the first {:d} parameters'.format(n_param_to_plot))\n",
    "plt.tight_layout()"
   ]
  },
  {
   "cell_type": "markdown",
   "metadata": {},
   "source": [
    "## Compare ESS computed by the module (via pure Python codes) with the one computed by R coda package.\n",
    "_r_coda function calls the R coda package; it exists mainly for testing and is not meant for routine uses."
   ]
  },
  {
   "cell_type": "code",
   "execution_count": null,
   "metadata": {},
   "outputs": [],
   "source": [
    "ar_ess = estimate_ess(samples, axis=-1, method='ar')\n",
    "r_coda_ess = _r_coda(samples, axis=-1)"
   ]
  },
  {
   "cell_type": "code",
   "execution_count": null,
   "metadata": {},
   "outputs": [],
   "source": [
    "def plot_with_refline(x, y, min_val=None, max_val=None):\n",
    "    \n",
    "    if min_val is None:\n",
    "        min_val = min(np.min(x), np.min(y))\n",
    "    if max_val is None:\n",
    "        max_val = max(np.max(x), np.max(y))\n",
    "        \n",
    "    plt.scatter(\n",
    "        x, y, s=150, facecolors='none', edgecolors='C0'\n",
    "    )\n",
    "    plt.plot([min_val, max_val], [min_val, max_val], color='C1')\n",
    "    plt.gca().set_aspect('equal', 'box')\n",
    "    \n",
    "    \n",
    "plt.figure(figsize=(6, 6))\n",
    "plt.rcParams['font.size'] = 20\n",
    "\n",
    "plot_with_refline(ar_ess, r_coda_ess)\n",
    "plt.xlabel('ESS by Python code')\n",
    "plt.ylabel('ESS by R CODA')\n",
    "plt.tight_layout()"
   ]
  },
  {
   "cell_type": "markdown",
   "metadata": {},
   "source": [
    "## Other ESS estimators are availabe as well.\n",
    "The initial monotone positive sequence estimator is valid *only* for reversible chains. The method of batch means tends to exhibit substantial bias and variances without a very long chain and a large number of batches."
   ]
  },
  {
   "cell_type": "code",
   "execution_count": null,
   "metadata": {},
   "outputs": [],
   "source": [
    "mono_seq_ess = estimate_ess(samples, axis=-1, method='monotone-sequence')\n",
    "batch_ess = estimate_ess(\n",
    "    samples, axis=-1, method='batch-means', options={'n_batch': 50}\n",
    ")"
   ]
  },
  {
   "cell_type": "code",
   "execution_count": null,
   "metadata": {},
   "outputs": [],
   "source": [
    "plt.figure(figsize=(13, 6.5))\n",
    "plt.rcParams['font.size'] = 20\n",
    "\n",
    "max_val = max(np.max(mono_seq_ess), np.max(batch_ess))\n",
    "\n",
    "plt.subplot(1, 2, 1)\n",
    "plot_with_refline(ar_ess, mono_seq_ess, 0, max_val)\n",
    "plt.ylabel(\"ESS by monotone positive sequence\")\n",
    "\n",
    "plt.subplot(1, 2, 2)\n",
    "plot_with_refline(ar_ess, batch_ess, 0, max_val)\n",
    "plt.ylabel(\"ESS by method of batch means\")\n",
    "\n",
    "plt.gcf().text(.5, 0.02, 'ESS via AR model (as done in R CODA)', horizontalalignment='center')\n",
    "plt.tight_layout()"
   ]
  }
 ],
 "metadata": {
  "kernelspec": {
   "display_name": "Python 3",
   "language": "python",
   "name": "python3"
  },
  "language_info": {
   "codemirror_mode": {
    "name": "ipython",
    "version": 3
   },
   "file_extension": ".py",
   "mimetype": "text/x-python",
   "name": "python",
   "nbconvert_exporter": "python",
   "pygments_lexer": "ipython3",
   "version": "3.6.7"
  }
 },
 "nbformat": 4,
 "nbformat_minor": 2
}
