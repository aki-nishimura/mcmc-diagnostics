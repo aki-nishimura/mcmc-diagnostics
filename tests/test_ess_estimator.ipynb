{
 "cells": [
  {
   "cell_type": "code",
   "execution_count": null,
   "metadata": {},
   "outputs": [],
   "source": [
    "import sys\n",
    "sys.path.append('..')"
   ]
  },
  {
   "cell_type": "code",
   "execution_count": null,
   "metadata": {},
   "outputs": [],
   "source": [
    "import numpy as np\n",
    "import matplotlib.pyplot as plt\n",
    "%matplotlib inline\n",
    "\n",
    "from mc_coda import estimate_ess\n",
    "from mc_coda.effective_sample_size import _r_coda\n",
    "from demo_helper import random_walk_metropolis_sampler, ProductGaussian"
   ]
  },
  {
   "cell_type": "markdown",
   "metadata": {},
   "source": [
    "## Sample from a multi-variate Gaussian with random-walk Metropolis."
   ]
  },
  {
   "cell_type": "code",
   "execution_count": null,
   "metadata": {},
   "outputs": [],
   "source": [
    "dim = 100\n",
    "target_sd = np.arange(1, dim + 1)\n",
    "gaussian_target = ProductGaussian(marginal_sd=target_sd)\n",
    "f = lambda x: gaussian_target.compute_logp(x)\n",
    "proposal_sd = 2.38 / np.sqrt(dim) * target_sd\n",
    "    # Optimal proposal sd: see Gelman, Roberts, and Gilks 1996.\n",
    "    \n",
    "n_samples = 10 ** 4\n",
    "thin = 5\n",
    "n_iter = n_samples * thin\n",
    "x0 = target_sd * np.random.randn(dim)\n",
    "samples, accept_rate, logp_samples, _ = random_walk_metropolis_sampler(\n",
    "    f, x0, proposal_sd, n_samples, seed=0, thin=thin\n",
    ")"
   ]
  },
  {
   "cell_type": "markdown",
   "metadata": {},
   "source": [
    "## Compare ESS computed by the module (via pure Python codes) with the one computed by R coda package.\n",
    "\\_r\\_coda function calls the R coda package; it exists mainly for testing and is not meant for routine uses. The function calls R either via bash or rpy2."
   ]
  },
  {
   "cell_type": "code",
   "execution_count": null,
   "metadata": {},
   "outputs": [],
   "source": [
    "ar_ess = estimate_ess(samples, axis=-1, method='ar')\n",
    "r_coda_ess = _r_coda(samples, axis=-1, R_call='external')"
   ]
  },
  {
   "cell_type": "code",
   "execution_count": null,
   "metadata": {},
   "outputs": [],
   "source": [
    "def plot_with_refline(x, y, min_val=None, max_val=None):\n",
    "    if min_val is None:\n",
    "        min_val = min(np.min(x), np.min(y))\n",
    "    if max_val is None:\n",
    "        max_val = max(np.max(x), np.max(y))\n",
    "    plt.scatter(\n",
    "        x, y, s=150, facecolors='none', edgecolors='C0'\n",
    "    )\n",
    "    plt.plot([min_val, max_val], [min_val, max_val], color='C1')\n",
    "    plt.gca().set_aspect('equal', 'box')\n",
    "    \n",
    "plt.figure(figsize=(6, 6))\n",
    "plt.rcParams['font.size'] = 20\n",
    "\n",
    "plot_with_refline(ar_ess, r_coda_ess)\n",
    "plt.xlabel('ESS by Python code')\n",
    "plt.ylabel('ESS by R CODA')\n",
    "plt.tight_layout()"
   ]
  }
 ],
 "metadata": {
  "kernelspec": {
   "display_name": "Python 3",
   "language": "python",
   "name": "python3"
  },
  "language_info": {
   "codemirror_mode": {
    "name": "ipython",
    "version": 3
   },
   "file_extension": ".py",
   "mimetype": "text/x-python",
   "name": "python",
   "nbconvert_exporter": "python",
   "pygments_lexer": "ipython3",
   "version": "3.7.3"
  }
 },
 "nbformat": 4,
 "nbformat_minor": 2
}
